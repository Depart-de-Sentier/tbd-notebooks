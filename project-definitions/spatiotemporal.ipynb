{
 "cells": [
  {
   "cell_type": "code",
   "execution_count": null,
   "id": "90ecd054-497a-4b92-8d75-9bda59d1edf1",
   "metadata": {},
   "outputs": [],
   "source": [
    "import bw2data as bd\n",
    "import bw2regional as bwr\n",
    "from bw_temporalis import TemporalDistribution as TD\n",
    "import numpy as bp\n",
    "from pathlib import Path\n",
    "import fiona\n",
    "import numpy as np"
   ]
  },
  {
   "cell_type": "code",
   "execution_count": null,
   "id": "67bd9eec-a961-4b05-9adc-5d25f78bac1d",
   "metadata": {},
   "outputs": [],
   "source": [
    "PROJECT_NAME = \"Spain case study spatiotemporal\""
   ]
  },
  {
   "cell_type": "code",
   "execution_count": null,
   "id": "89f9c1b0-38e1-490a-8d02-5fd89303cf8f",
   "metadata": {},
   "outputs": [],
   "source": [
    "RESET = True"
   ]
  },
  {
   "cell_type": "code",
   "execution_count": null,
   "id": "60f26996-8a34-42f0-852d-7583c03e19ed",
   "metadata": {},
   "outputs": [],
   "source": [
    "if PROJECT_NAME in bd.projects and RESET:\n",
    "    bd.projects.delete_project(PROJECT_NAME, True) "
   ]
  },
  {
   "cell_type": "code",
   "execution_count": null,
   "id": "46049ab4-8536-41a9-947b-3827bca889a7",
   "metadata": {},
   "outputs": [],
   "source": [
    "bd.projects.set_current(PROJECT_NAME)"
   ]
  },
  {
   "cell_type": "code",
   "execution_count": null,
   "id": "168c5d47-415e-482e-9286-926ff809a4b7",
   "metadata": {},
   "outputs": [],
   "source": [
    "reg_data_dir = (Path.home() / \"from-the-ground-up\" / \"regionalization\" / \"data\").absolute()\n",
    "assert reg_data_dir.is_dir()"
   ]
  },
  {
   "cell_type": "code",
   "execution_count": null,
   "id": "809abfae-58ee-4957-a389-daa54857b6e7",
   "metadata": {},
   "outputs": [],
   "source": [
    "data_dir = (Path.home() / \"from-the-ground-up\" / \"spatiotemporal\" / \"data\").absolute()\n",
    "assert data_dir.is_dir()"
   ]
  },
  {
   "cell_type": "markdown",
   "id": "96b266e0-59c0-4391-98e5-d7d5dee539be",
   "metadata": {},
   "source": [
    "Tell `bw2regional` about our maps."
   ]
  },
  {
   "cell_type": "markdown",
   "id": "04c08b5d-a22f-41bc-b7e9-c886ff77b083",
   "metadata": {},
   "source": [
    "Data from Natural Earth Data. Needed to create another column named `city_id` with a string data type."
   ]
  },
  {
   "cell_type": "code",
   "execution_count": null,
   "id": "16b57324-cc3f-4358-a564-bc85de7f3dc9",
   "metadata": {},
   "outputs": [],
   "source": [
    "bwr.geocollections['cities'] = {\n",
    "    'filepath': str(reg_data_dir / 'cities.gpkg'),\n",
    "    'field': 'city_id',\n",
    "}"
   ]
  },
  {
   "cell_type": "code",
   "execution_count": null,
   "id": "be64ffbb-da90-461b-97ac-b15a2f7b1534",
   "metadata": {},
   "outputs": [],
   "source": [
    "bwr.geocollections['regions'] = {\n",
    "    'filepath': str(reg_data_dir / 'regions.gpkg'),\n",
    "    'field': 'name',\n",
    "}"
   ]
  },
  {
   "cell_type": "code",
   "execution_count": null,
   "id": "8159b9e8-00bf-4f23-b8bb-d1c88edb7dbc",
   "metadata": {},
   "outputs": [],
   "source": [
    "bwr.geocollections['countries'] = {\n",
    "    'filepath': str(reg_data_dir / 'countries.gpkg'),\n",
    "    'field': 'NAME',\n",
    "}"
   ]
  },
  {
   "cell_type": "code",
   "execution_count": null,
   "id": "907897d0-4e3a-4e76-8283-9837952ec7ea",
   "metadata": {},
   "outputs": [],
   "source": [
    "bwr.geocollections['WaterGap'] = {\n",
    "    'filepath': str(data_dir / 'wsi_annual_spain.gpkg'),\n",
    "    'field': 'basin_id',\n",
    "}"
   ]
  },
  {
   "cell_type": "markdown",
   "id": "3285ce8f-3c93-445f-87e0-2ef44385b90b",
   "metadata": {},
   "source": [
    "Data from [Estimation of spatial distribution of irrigated crop areas in Europe for large-scale modelling applications](https://www.sciencedirect.com/science/article/pii/S0378377422000749?via%3Dihub#sec0060), via [Agri4Cast](https://agri4cast.jrc.ec.europa.eu/DataPortal/Index.aspx?o=).\n",
    "\n",
    "Data also [available here](https://files.brightway.dev/europe_irrigated.gpkg).\n",
    "\n",
    "GDAL commands to extract and process the rasters:\n",
    "\n",
    "```bash\n",
    "gdal_rasterize -a IR_citrus -init -999 -a_nodata -999 -ts 400 400 -of GTIFF irrigation.gpkg citrus.p.tiff\n",
    "gdal_rasterize -a IR_potatoe -init -999 -a_nodata -999 -ts 400 400 -of GTIFF irrigation.gpkg potatoe.p.tiff\n",
    "gdal_rasterize -a IR_rice -init -999 -a_nodata -999 -ts 400 400 -of GTIFF irrigation.gpkg rice.p.tiff\n",
    "gdal_rasterize -a IR_cereals -init -999 -a_nodata -999 -ts 400 400 -of GTIFF irrigation.gpkg cereals.p.tiff\n",
    "\n",
    "gdalwarp -t_srs EPSG:4326 rice.p.tiff rice.tiff\n",
    "gdalwarp -t_srs EPSG:4326 potatoe.p.tiff potatoe.tiff\n",
    "gdalwarp -t_srs EPSG:4326 cereals.p.tiff cereals.tiff\n",
    "gdalwarp -t_srs EPSG:4326 citrus.p.tiff citrus.tiff\n",
    "```"
   ]
  },
  {
   "cell_type": "code",
   "execution_count": null,
   "id": "10001d08-f72d-4b48-8d9e-7d64a03f946e",
   "metadata": {},
   "outputs": [],
   "source": [
    "CROPS = ['cereals', 'citrus', 'rice', 'potatoe']"
   ]
  },
  {
   "cell_type": "code",
   "execution_count": null,
   "id": "8c696bb2-133e-4b9e-85aa-d043360165c4",
   "metadata": {},
   "outputs": [],
   "source": [
    "for crop in CROPS:\n",
    "    bwr.geocollections[crop] = {'filepath': str(reg_data_dir / f'{crop}.tiff'), 'nodata': -999}"
   ]
  },
  {
   "cell_type": "code",
   "execution_count": null,
   "id": "caec0f1d-9609-42e4-84dd-1eaaae07f7a6",
   "metadata": {},
   "outputs": [],
   "source": [
    "bio = bd.Database(\"biosphere\")\n",
    "bio.register()"
   ]
  },
  {
   "cell_type": "code",
   "execution_count": null,
   "id": "a78982a6-4eeb-4671-9cae-d6fd0dc92565",
   "metadata": {
    "tags": []
   },
   "outputs": [],
   "source": [
    "water = bio.new_node(\n",
    "    code=\"water\",\n",
    "    name=\"water\",\n",
    "    type=\"emission\",\n",
    ")\n",
    "water.save()"
   ]
  },
  {
   "cell_type": "code",
   "execution_count": null,
   "id": "22dbfaf7-4415-4dd1-9297-59ae28c98634",
   "metadata": {},
   "outputs": [],
   "source": [
    "co2 = bio.new_node(\n",
    "    code=\"co2\",\n",
    "    name=\"co2\",\n",
    "    type=\"emission\",\n",
    ")\n",
    "co2.save()"
   ]
  },
  {
   "cell_type": "code",
   "execution_count": null,
   "id": "e5b03078-5562-4826-8b9a-80c8885515b2",
   "metadata": {},
   "outputs": [],
   "source": [
    "ch4 = bio.new_node(\n",
    "    code=\"ch4\",\n",
    "    name=\"ch4\",\n",
    "    type=\"emission\",\n",
    ")\n",
    "ch4.save()"
   ]
  },
  {
   "cell_type": "code",
   "execution_count": null,
   "id": "f33c2e1f-fe22-494c-ba92-67c56c169501",
   "metadata": {},
   "outputs": [],
   "source": [
    "bio.set_geocollections()"
   ]
  },
  {
   "cell_type": "markdown",
   "id": "351ce720-30d4-49c6-b6ae-f346cc4959e0",
   "metadata": {},
   "source": [
    "Just in case things go wrong later :)"
   ]
  },
  {
   "cell_type": "code",
   "execution_count": null,
   "id": "1cb17f8e-fb49-46cc-9cde-6ed294b816e5",
   "metadata": {},
   "outputs": [],
   "source": [
    "food = bd.Database(\"food\")\n",
    "food.register()"
   ]
  },
  {
   "cell_type": "code",
   "execution_count": null,
   "id": "4ae2eee9-2a50-41e0-a463-243bfc5b19da",
   "metadata": {},
   "outputs": [],
   "source": [
    "lemon = food.new_node(\n",
    "    code=\"lemon\",\n",
    "    name=\"lemon\",\n",
    "    location=('regions', 'Granada')\n",
    ")\n",
    "lemon.save()\n",
    "lemon.new_edge(\n",
    "    input=water,\n",
    "    amount=5,\n",
    "    type=\"biosphere\",\n",
    "    temporal_distribution=TD(\n",
    "        np.array([-3, -2, -1, 0, 1], dtype=\"timedelta64[Y]\"),\n",
    "        np.ones(5)\n",
    "    )\n",
    ").save()\n",
    "lemon.new_edge(\n",
    "    input=co2,\n",
    "    amount=0.2,\n",
    "    type=\"biosphere\",\n",
    "    temporal_distribution=TD(\n",
    "        np.array([-1, 0, 1], dtype=\"timedelta64[M]\"),\n",
    "        np.ones(3) * 2/3\n",
    "    )\n",
    ").save()"
   ]
  },
  {
   "cell_type": "code",
   "execution_count": null,
   "id": "c717ba4c-2a1f-4418-b784-633503155820",
   "metadata": {},
   "outputs": [],
   "source": [
    "mushroom = food.new_node(\n",
    "    code=\"mushroom\",\n",
    "    name=\"mushroom\",\n",
    "    location=('countries', 'Portugal')\n",
    ")\n",
    "mushroom.save()\n",
    "mushroom.new_edge(\n",
    "    input=water,\n",
    "    amount=0.5,\n",
    "    type=\"biosphere\",\n",
    "    temporal_distribution=TD(\n",
    "        np.array([-3, -2, -1], dtype=\"timedelta64[M]\"),\n",
    "        np.ones(3) * 0.5\n",
    "    )    \n",
    ").save()\n",
    "mushroom.new_edge(\n",
    "    input=ch4,\n",
    "    amount=0.05,\n",
    "    type=\"biosphere\",\n",
    "    temporal_distribution=TD(\n",
    "        np.array([-3, -2, -1, 0], dtype=\"timedelta64[M]\"),\n",
    "        np.ones(4) * 0.0125\n",
    "    )    \n",
    ").save()"
   ]
  },
  {
   "cell_type": "code",
   "execution_count": null,
   "id": "fa26cdd9-c877-4867-b2b2-46715ffc05c1",
   "metadata": {},
   "outputs": [],
   "source": [
    "cheese = food.new_node(\n",
    "    code=\"cheese\",\n",
    "    name=\"cheese\",\n",
    "    location=('countries', 'Spain')\n",
    ")\n",
    "cheese.save()\n",
    "cheese.new_edge(\n",
    "    input=water,\n",
    "    amount=25,\n",
    "    type=\"biosphere\",\n",
    "    temporal_distribution=TD(\n",
    "        np.linspace(-90, -10, 10).astype(\"timedelta64[D]\"),\n",
    "        np.ones(10) * 10/25\n",
    "    )    \n",
    ").save()"
   ]
  },
  {
   "cell_type": "code",
   "execution_count": null,
   "id": "f821178a-5d27-460f-b3ed-19cb0cb1acc8",
   "metadata": {},
   "outputs": [],
   "source": [
    "rice = food.new_node(\n",
    "    code=\"rice\",\n",
    "    name=\"rice\",\n",
    "    location=('regions', 'Valencia')\n",
    ")\n",
    "rice.save()\n",
    "rice.new_edge(\n",
    "    input=water,\n",
    "    amount=10,\n",
    "    type=\"biosphere\",\n",
    ").save()"
   ]
  },
  {
   "cell_type": "code",
   "execution_count": null,
   "id": "cd925e9b-634f-4b9a-b744-5e2f92826c09",
   "metadata": {},
   "outputs": [],
   "source": [
    "meal = food.new_node(\n",
    "    code=\"meal\",\n",
    "    name=\"meal\",\n",
    "    location=('cities', '14')\n",
    ")\n",
    "meal.save()\n",
    "meal.new_edge(\n",
    "    input=water,\n",
    "    amount=0.5,\n",
    "    type=\"biosphere\",\n",
    ").save()\n",
    "meal.new_edge(\n",
    "    input=lemon,\n",
    "    amount=0.25,\n",
    "    type=\"technosphere\",\n",
    ").save()\n",
    "meal.new_edge(\n",
    "    input=rice,\n",
    "    amount=1,\n",
    "    type=\"technosphere\",\n",
    ").save()\n",
    "meal.new_edge(\n",
    "    input=mushroom,\n",
    "    amount=0.5,\n",
    "    type=\"technosphere\",\n",
    ").save()\n",
    "meal.new_edge(\n",
    "    input=cheese,\n",
    "    amount=0.1,\n",
    "    type=\"technosphere\",\n",
    ").save()"
   ]
  },
  {
   "cell_type": "code",
   "execution_count": null,
   "id": "cb7d242e-d695-420a-8638-c3bdaaffb5df",
   "metadata": {},
   "outputs": [],
   "source": [
    "meal = bd.get_node(name=\"meal\")"
   ]
  },
  {
   "cell_type": "code",
   "execution_count": null,
   "id": "d605728b",
   "metadata": {},
   "outputs": [],
   "source": [
    "food.set_geocollections()"
   ]
  },
  {
   "cell_type": "markdown",
   "id": "bb86a6dd-e0be-4165-94e3-2d21546aab21",
   "metadata": {},
   "source": [
    "See notebook X for details on the LCIA method"
   ]
  },
  {
   "cell_type": "code",
   "execution_count": null,
   "id": "2f4b1379-9c1d-492d-97d1-8c1afed029d9",
   "metadata": {},
   "outputs": [],
   "source": [
    "# From https://www.sciencedirect.com/science/article/abs/pii/S0959652613007956\n",
    "GLOBAL_CF = 0.44"
   ]
  },
  {
   "cell_type": "code",
   "execution_count": null,
   "id": "58cd7642-3bbc-4559-94bf-ae5ab79b2cc2",
   "metadata": {},
   "outputs": [],
   "source": [
    "water_flows = [(bd.get_node(name=\"water\"), 1)]"
   ]
  },
  {
   "cell_type": "code",
   "execution_count": null,
   "id": "33b1d74d-ed07-4e2e-8263-64ddfe48a438",
   "metadata": {},
   "outputs": [],
   "source": [
    "def gpkg_reader(column):\n",
    "    with fiona.Env():\n",
    "        with fiona.open(data_dir / 'wsi_annual_spain.gpkg') as src:\n",
    "            for feat in src:\n",
    "                for obj, sign in water_flows:\n",
    "                    yield (\n",
    "                        obj.key,\n",
    "                        feat.properties[column]\n",
    "                        * sign,  # Convert km3 to m3\n",
    "                        ('WaterGap', feat[\"properties\"][\"basin_id\"]),\n",
    "                    )    "
   ]
  },
  {
   "cell_type": "code",
   "execution_count": null,
   "id": "e6daf0e0-30fd-4093-bf35-c6950579a737",
   "metadata": {},
   "outputs": [],
   "source": [
    "water_stress = bd.Method((\"Monthly water stress\", \"Site-generic\"))\n",
    "water_stress.register(geocollections=[\"WaterGap\"])\n",
    "water_stress.write([(water.key, GLOBAL_CF)])"
   ]
  },
  {
   "cell_type": "code",
   "execution_count": null,
   "id": "5816b502-2e6b-4440-acdd-884057308452",
   "metadata": {},
   "outputs": [],
   "source": [
    "water_stress = bd.Method((\"Monthly water stress\", \"Average\"))\n",
    "water_stress.register(geocollections=[\"WaterGap\"])\n",
    "water_stress.write(\n",
    "    list(gpkg_reader('mean'))\n",
    ")"
   ]
  },
  {
   "cell_type": "code",
   "execution_count": null,
   "id": "8e6e62fb-1303-4984-93e6-6103b5ed6f90",
   "metadata": {},
   "outputs": [],
   "source": [
    "for month in range(1, 13):\n",
    "    water_stress = bd.Method((\"Monthly water stress\", str(month)))\n",
    "    water_stress.register(geocollections=[\"WaterGap\"])\n",
    "    water_stress.write(\n",
    "        list(gpkg_reader(f'WSI_{month:02}'))\n",
    "    )"
   ]
  },
  {
   "cell_type": "code",
   "execution_count": null,
   "id": "c49c92de-8ed1-4284-8a1f-1650bf3ff277",
   "metadata": {},
   "outputs": [],
   "source": [
    "bwr.calculate_needed_intersections({meal: 1}, (\"Monthly water stress\", \"Average\"))"
   ]
  },
  {
   "cell_type": "code",
   "execution_count": null,
   "id": "2038d2d9-99f6-4f3a-8c9e-1f9ce9276dc1",
   "metadata": {},
   "outputs": [],
   "source": [
    "inventory_geocollections = [\n",
    "    'countries',\n",
    "    'cities',\n",
    "    'regions',\n",
    "]"
   ]
  },
  {
   "cell_type": "code",
   "execution_count": null,
   "id": "bc2b4fd7-b6a7-4d7a-8b8d-8903061e7d8f",
   "metadata": {},
   "outputs": [],
   "source": [
    "for gc in inventory_geocollections:\n",
    "    if f'{gc}-WaterGap' not in bwr.geocollections:\n",
    "        bwr.remote.calculate_intersection(gc, 'WaterGap')"
   ]
  },
  {
   "cell_type": "code",
   "execution_count": null,
   "id": "1c865279-f157-48c9-b436-b2f1d920b2fc",
   "metadata": {},
   "outputs": [],
   "source": [
    "for gc in inventory_geocollections:\n",
    "    if f'{gc}-watergap' not in bwr.geocollections:\n",
    "        bwr.remote.intersection_as_new_geocollection(gc, 'WaterGap', f'{gc}-WaterGap')"
   ]
  },
  {
   "cell_type": "code",
   "execution_count": null,
   "id": "d2e25148",
   "metadata": {},
   "outputs": [],
   "source": [
    "bwr.geocollections['popdensity'] = {'filepath': str(reg_data_dir / 'gpw_v4_population_density.tif')}"
   ]
  },
  {
   "cell_type": "code",
   "execution_count": null,
   "id": "fb56ed8c-7da3-49c1-a790-f6ff8997797b",
   "metadata": {},
   "outputs": [],
   "source": [
    "CROPS = ['cereals', 'citrus', 'rice', 'potatoe']"
   ]
  },
  {
   "cell_type": "code",
   "execution_count": null,
   "id": "73c6682b-dc2c-4605-93b8-bb57fe776513",
   "metadata": {},
   "outputs": [],
   "source": [
    "for crop in CROPS:\n",
    "    for gc in inventory_geocollections:\n",
    "        if f'{gc}-WaterGap - {crop}' not in bwr.extension_tables:\n",
    "            bwr.raster_as_extension_table(f'{gc}-WaterGap', crop, engine='rasterstats')"
   ]
  },
  {
   "cell_type": "code",
   "execution_count": null,
   "id": "2a4534bf-5c22-4e5f-b5b9-aa4678895d17",
   "metadata": {},
   "outputs": [],
   "source": [
    "for xt in bwr.extension_tables:\n",
    "    bwr.calculate_needed_intersections({meal: 1}, (\"Monthly water stress\", \"Average\"), xt)"
   ]
  }
 ],
 "metadata": {
  "kernelspec": {
   "display_name": "Python [conda env:regional]",
   "language": "python",
   "name": "conda-env-regional-py"
  },
  "language_info": {
   "codemirror_mode": {
    "name": "ipython",
    "version": 3
   },
   "file_extension": ".py",
   "mimetype": "text/x-python",
   "name": "python",
   "nbconvert_exporter": "python",
   "pygments_lexer": "ipython3",
   "version": "3.10.10"
  }
 },
 "nbformat": 4,
 "nbformat_minor": 5
}
