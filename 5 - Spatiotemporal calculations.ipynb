{
 "cells": [
  {
   "cell_type": "code",
   "execution_count": null,
   "id": "7c2854e6-527d-4f33-ae94-4c0de9cfc490",
   "metadata": {
    "tags": []
   },
   "outputs": [],
   "source": [
    "from bw_temporalis import TemporalDistribution as TD, TemporalisLCA, Timeline\n",
    "import bw2data as bd\n",
    "import bw2calc as bc\n",
    "import bw2io as bi\n",
    "import bw_temporalis as bwt\n",
    "import numpy as np\n",
    "import pandas as pd\n",
    "from functools import partial\n",
    "import bw2regional as bwr\n",
    "from bw_graph_tools import GraphTraversal\n",
    "from functools import partial"
   ]
  },
  {
   "cell_type": "code",
   "execution_count": null,
   "id": "0f42a196-a625-411c-b4bf-ddf478bac5db",
   "metadata": {},
   "outputs": [],
   "source": [
    "bi.install_project(\"spatiotemporal-example\", overwrite_existing=True)"
   ]
  },
  {
   "cell_type": "code",
   "execution_count": null,
   "id": "b04990ce-ba7c-45b3-8aae-665e7d0ce1be",
   "metadata": {},
   "outputs": [],
   "source": [
    "PROJECT_NAME = \"Spain case study spatiotemporal\""
   ]
  },
  {
   "cell_type": "code",
   "execution_count": null,
   "id": "72608b78-45d6-4997-a0aa-4699bd3a802a",
   "metadata": {},
   "outputs": [],
   "source": [
    "bd.projects.set_current(PROJECT_NAME)"
   ]
  },
  {
   "cell_type": "code",
   "execution_count": null,
   "id": "263e68db-32ec-4bb9-be22-b93cb1ab1713",
   "metadata": {},
   "outputs": [],
   "source": [
    "meal = bd.get_node(name=\"meal\")"
   ]
  },
  {
   "cell_type": "code",
   "execution_count": null,
   "id": "00436d02-9eef-4755-bfa4-51452be238b1",
   "metadata": {},
   "outputs": [],
   "source": [
    "def combine_xts(xts: list, label: str):\n",
    "    data = [elem for xt in xts for elem in bwr.ExtensionTable(xt).load()]\n",
    "    geocollections = list({bwr.extension_tables[xt]['geocollection'] for xt in xts})\n",
    "    new_ext = bwr.ExtensionTable(label)\n",
    "    new_ext.register(geocollections=geocollections)\n",
    "    new_ext.write(data)"
   ]
  },
  {
   "cell_type": "code",
   "execution_count": null,
   "id": "4265d913-4f7c-4136-8bb6-e4ec9b61dec9",
   "metadata": {},
   "outputs": [],
   "source": [
    "CROPS = ['cereals', 'citrus', 'potatoe', 'rice']"
   ]
  },
  {
   "cell_type": "code",
   "execution_count": null,
   "id": "2b5651e0-021f-4099-9d8f-ad2ff0c1c94a",
   "metadata": {},
   "outputs": [],
   "source": [
    "for crop in CROPS:\n",
    "    xts = [xt for xt in bwr.extension_tables if crop in xt]\n",
    "    combine_xts(xts, f\"{crop}-xt-all\")"
   ]
  },
  {
   "cell_type": "code",
   "execution_count": null,
   "id": "88b606e8-f393-4b68-b3ac-73144d7c4cee",
   "metadata": {},
   "outputs": [],
   "source": [
    "def characterization_matrix_for_regionalized_lca(lca):\n",
    "    return (\n",
    "        lca.inv_mapping_matrix\n",
    "        * lca.distribution_normalization_matrix\n",
    "        * lca.distribution_matrix\n",
    "        * lca.xtable_matrix\n",
    "        * lca.geo_transform_normalization_matrix\n",
    "        * lca.geo_transform_matrix\n",
    "        * lca.reg_cf_matrix\n",
    "    ).T"
   ]
  },
  {
   "cell_type": "code",
   "execution_count": null,
   "id": "841a4d3e-b8be-4ca1-ab03-b0b3676c862f",
   "metadata": {},
   "outputs": [],
   "source": [
    "matrix_dict = {}\n",
    "\n",
    "for crop in CROPS:\n",
    "    for month in range(1, 13):\n",
    "        lca = bwr.ExtensionTablesLCA(\n",
    "            demand={meal: 1},\n",
    "            method=(\"Monthly water stress\", str(month)),\n",
    "            xtable=f'{crop}-xt-all'\n",
    "        )\n",
    "        lca.lci()\n",
    "        lca.lcia() \n",
    "        matrix_dict[(crop, month)] = characterization_matrix_for_regionalized_lca(lca)"
   ]
  },
  {
   "cell_type": "code",
   "execution_count": null,
   "id": "156f052f-5c35-4a81-86d0-d6b0dcd71670",
   "metadata": {},
   "outputs": [],
   "source": [
    "def characterize_water(\n",
    "    series,\n",
    "    lca,\n",
    "    matrix_dict,\n",
    "    crop\n",
    ") -> pd.DataFrame:\n",
    "    amount = matrix_dict[\n",
    "        (crop, series.date.month)\n",
    "    ][\n",
    "        lca.dicts.biosphere[series.flow], \n",
    "        lca.dicts.activity[series.activity]\n",
    "    ] * series.amount\n",
    "    return pd.DataFrame(\n",
    "        {\n",
    "            \"date\": [series.date],\n",
    "            \"amount\": [amount],\n",
    "            \"flow\": [series.flow],\n",
    "            \"activity\": [series.activity],\n",
    "        }\n",
    "    )"
   ]
  },
  {
   "cell_type": "code",
   "execution_count": null,
   "id": "ebff017e-7843-4738-9fbb-ec6e283eeb69",
   "metadata": {},
   "outputs": [],
   "source": [
    "characterize_water_generic = partial(characterize_water, lca=lca, matrix_dict=matrix_dict)"
   ]
  },
  {
   "cell_type": "code",
   "execution_count": null,
   "id": "dc0e5f0e-cafd-4bc9-a3bd-ce23e71157dc",
   "metadata": {},
   "outputs": [],
   "source": [
    "class RegionalizedGraphTraversal(GraphTraversal):\n",
    "    @classmethod\n",
    "    def get_characterized_biosphere(cls, lca: bc.LCA):\n",
    "        return characterization_matrix_for_regionalized_lca(lca).multiply(lca.biosphere_matrix)"
   ]
  },
  {
   "cell_type": "code",
   "execution_count": null,
   "id": "ad1eb4f3-6388-462d-aef2-40df13626138",
   "metadata": {},
   "outputs": [],
   "source": [
    "CROP = \"cereals\""
   ]
  },
  {
   "cell_type": "code",
   "execution_count": null,
   "id": "b32ac1c8-4bb3-4777-8dd0-00fb3c0e6b48",
   "metadata": {},
   "outputs": [],
   "source": [
    "lca = bwr.ExtensionTablesLCA(\n",
    "    demand={meal: 1},\n",
    "    method=(\"Monthly water stress\", \"Average\"),\n",
    "    xtable=f'{crop}-xt-all'\n",
    ")\n",
    "lca.lci()\n",
    "lca.lcia()"
   ]
  },
  {
   "cell_type": "code",
   "execution_count": null,
   "id": "cfc29341-39d5-4dda-92d1-dc17a562c4c8",
   "metadata": {
    "tags": []
   },
   "outputs": [],
   "source": [
    "tlca = TemporalisLCA(lca, graph_traversal=RegionalizedGraphTraversal)"
   ]
  },
  {
   "cell_type": "code",
   "execution_count": null,
   "id": "200ecffb-5276-4071-aa45-e8e1146d34c9",
   "metadata": {
    "tags": []
   },
   "outputs": [],
   "source": [
    "tl = tlca.build_timeline()"
   ]
  },
  {
   "cell_type": "code",
   "execution_count": null,
   "id": "696ecd6c-5888-42e0-abad-f83c0ac483ee",
   "metadata": {
    "tags": []
   },
   "outputs": [],
   "source": [
    "tl.build_dataframe()"
   ]
  },
  {
   "cell_type": "code",
   "execution_count": null,
   "id": "9a9eef78-2a21-4b61-ab6d-2a0613c3ac52",
   "metadata": {
    "tags": []
   },
   "outputs": [],
   "source": [
    "tl.df.plot(x=\"date\", y=\"amount\", kind=\"scatter\")"
   ]
  },
  {
   "cell_type": "code",
   "execution_count": null,
   "id": "6126a20e-7a12-470f-85ce-6be0b9f73609",
   "metadata": {},
   "outputs": [],
   "source": [
    "characterize_water_specific = partial(characterize_water_generic, crop=CROP)"
   ]
  },
  {
   "cell_type": "code",
   "execution_count": null,
   "id": "8340f806-51fe-4341-88ba-9c50645b92f7",
   "metadata": {},
   "outputs": [],
   "source": [
    "characterized_df = tl.characterize_dataframe(\n",
    "    characterization_function=characterize_water_specific, \n",
    "    cumsum=True\n",
    ")"
   ]
  },
  {
   "cell_type": "code",
   "execution_count": null,
   "id": "7e642b1a-f16d-47a5-98d0-30ee48c3db55",
   "metadata": {
    "tags": []
   },
   "outputs": [],
   "source": [
    "characterized_df.plot(x=\"date\", y=\"amount_sum\")"
   ]
  }
 ],
 "metadata": {
  "kernelspec": {
   "display_name": "Python 3 (ipykernel)",
   "language": "python",
   "name": "python3"
  },
  "language_info": {
   "codemirror_mode": {
    "name": "ipython",
    "version": 3
   },
   "file_extension": ".py",
   "mimetype": "text/x-python",
   "name": "python",
   "nbconvert_exporter": "python",
   "pygments_lexer": "ipython3",
   "version": "3.10.10"
  }
 },
 "nbformat": 4,
 "nbformat_minor": 5
}
