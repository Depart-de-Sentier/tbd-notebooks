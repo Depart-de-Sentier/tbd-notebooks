{
 "cells": [
  {
   "cell_type": "code",
   "execution_count": null,
   "id": "90ecd054-497a-4b92-8d75-9bda59d1edf1",
   "metadata": {
    "tags": []
   },
   "outputs": [],
   "source": [
    "import bw2data as bd\n",
    "import bw2io as bi\n",
    "import bw2regional as bwr"
   ]
  },
  {
   "cell_type": "code",
   "execution_count": null,
   "id": "a43c8abf-2e5c-4603-abd2-9f12680cfd65",
   "metadata": {},
   "outputs": [],
   "source": [
    "bi.install_project(\"regionalization-example\", overwrite_existing=True)"
   ]
  },
  {
   "cell_type": "code",
   "execution_count": null,
   "id": "67bd9eec-a961-4b05-9adc-5d25f78bac1d",
   "metadata": {},
   "outputs": [],
   "source": [
    "PROJECT_NAME = \"Spain case study\""
   ]
  },
  {
   "cell_type": "code",
   "execution_count": null,
   "id": "46049ab4-8536-41a9-947b-3827bca889a7",
   "metadata": {},
   "outputs": [],
   "source": [
    "bd.projects.set_current(PROJECT_NAME)"
   ]
  },
  {
   "cell_type": "code",
   "execution_count": null,
   "id": "926ce6a0-9a4e-4d09-9dd7-cf2cc8c7276f",
   "metadata": {},
   "outputs": [],
   "source": [
    "bwr.geocollections"
   ]
  },
  {
   "cell_type": "code",
   "execution_count": null,
   "id": "6ad1c658-c186-4ee2-b9da-8af65ecedb80",
   "metadata": {},
   "outputs": [],
   "source": [
    "bwr.extension_tables"
   ]
  },
  {
   "cell_type": "code",
   "execution_count": null,
   "id": "ee4b95d8-2f92-465a-bdc4-f145ab80dba5",
   "metadata": {},
   "outputs": [],
   "source": [
    "bwr.intersections"
   ]
  },
  {
   "cell_type": "code",
   "execution_count": null,
   "id": "fc50d740-67a7-4fd6-8db9-6fc31ebf2711",
   "metadata": {},
   "outputs": [],
   "source": [
    "meal = bd.get_node(name=\"meal\")"
   ]
  },
  {
   "cell_type": "code",
   "execution_count": null,
   "id": "3caa102a-ccfb-45cf-9ab6-7e01926f68d8",
   "metadata": {},
   "outputs": [],
   "source": [
    "lca = bwr.ExtensionTablesLCA(\n",
    "    demand={meal: 1},\n",
    "    method=(\"water stress\",),\n",
    "    xtable='regions-water-stress - potatoe'\n",
    ")\n",
    "lca.lci()\n",
    "lca.lcia()"
   ]
  },
  {
   "cell_type": "code",
   "execution_count": null,
   "id": "1aa4b2a3-5e0f-4fe5-8b73-5430813333ed",
   "metadata": {},
   "outputs": [],
   "source": [
    "lca.score"
   ]
  },
  {
   "cell_type": "code",
   "execution_count": null,
   "id": "b8f660b5-d1c1-4e5b-8b2a-764a64cff5d5",
   "metadata": {
    "tags": []
   },
   "outputs": [],
   "source": [
    "lca.geodataframe_xtable_spatial_scale().explore(column='score_rel')"
   ]
  }
 ],
 "metadata": {
  "kernelspec": {
   "display_name": "Python 3 (ipykernel)",
   "language": "python",
   "name": "python3"
  },
  "language_info": {
   "codemirror_mode": {
    "name": "ipython",
    "version": 3
   },
   "file_extension": ".py",
   "mimetype": "text/x-python",
   "name": "python",
   "nbconvert_exporter": "python",
   "pygments_lexer": "ipython3",
   "version": "3.10.10"
  }
 },
 "nbformat": 4,
 "nbformat_minor": 5
}
