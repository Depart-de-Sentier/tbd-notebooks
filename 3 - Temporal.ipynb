{
 "cells": [
  {
   "cell_type": "markdown",
   "id": "19bffdcb-590e-47ab-a27d-8ffddbacbc10",
   "metadata": {},
   "source": [
    "# `bw_temporalis` Introduction\n",
    "\n",
    "We want to know when things occur, so that we can see how long it takes investments in clean energy to pay, or so that we can discount emissions from events which have already taken place.\n",
    "\n",
    "## [`TemporalDistribution` (source code)](https://github.com/brightway-lca/bw_temporalis/blob/6517a0677d0e854d41eed1155df388e56837207d/bw_temporalis/temporal_distribution.py#L17)\n",
    "\n",
    "To do this we need several building blocks. The first is a data structure to locate things in time. We call this a `TemporalDistribution`, and it has two parts: the dates things occur, and the amount that occurs at each step. A `TemporalDistribution` is quantized - it is a set of points, not a smooth function."
   ]
  },
  {
   "cell_type": "code",
   "execution_count": null,
   "id": "d8cd7a3f",
   "metadata": {
    "tags": []
   },
   "outputs": [],
   "source": [
    "from bw_temporalis import easy_timedelta_distribution, easy_datetime_distribution, TemporalisLCA, Timeline, TemporalDistribution\n",
    "from bw_temporalis.lcia import characterize_methane, characterize_co2\n",
    "import bw2data as bd\n",
    "import bw2calc as bc\n",
    "import bw_graph_tools as graph\n",
    "import numpy as np\n",
    "import pandas as pd"
   ]
  },
  {
   "cell_type": "code",
   "execution_count": null,
   "id": "64676e98-f9e9-4041-9ba8-fa13a724b195",
   "metadata": {},
   "outputs": [],
   "source": [
    "td = easy_timedelta_distribution(\n",
    "    start=0,\n",
    "    end=10, # Range includes both start and end\n",
    "    resolution=\"h\",  # M for months, Y for years, h for hours, etc.\n",
    "    steps=5,\n",
    "    kind=\"triangular\",\n",
    "    param=3,\n",
    ")"
   ]
  },
  {
   "cell_type": "markdown",
   "id": "3b6a1c4d-906e-4637-b850-fd40106344ce",
   "metadata": {},
   "source": [
    "We can plot this with `pyplot`, but it shows things in seconds:"
   ]
  },
  {
   "cell_type": "code",
   "execution_count": null,
   "id": "bfd8aa2f-ba9b-4e0e-af0b-3695d261e7b6",
   "metadata": {},
   "outputs": [],
   "source": [
    "td.graph()"
   ]
  },
  {
   "cell_type": "markdown",
   "id": "abef363e-6532-4258-bd6d-8fca082e55e0",
   "metadata": {},
   "source": [
    "A `TemporalDistribution` can also be absolute instead of relative:"
   ]
  },
  {
   "cell_type": "code",
   "execution_count": null,
   "id": "b00843a5-238b-4ba3-be8e-ec632ab23904",
   "metadata": {},
   "outputs": [],
   "source": [
    "one_day = easy_datetime_distribution(\"2023-05-23\", \"2023-05-24\", steps=10)\n",
    "one_day.graph()"
   ]
  },
  {
   "cell_type": "markdown",
   "id": "fed3fcd5-4d51-436b-9210-b616cd65f34e",
   "metadata": {},
   "source": [
    "The cool thing about temporal distributions is that we can combine them. Specifically, we can:\n",
    "\n",
    "* Multiply or divide by a number (changes only `amount`)\n",
    "* Multiply (convolve) an absolute and a relative temporal distribution\n",
    "* Multiply (convolve) two relative temporal distributions\n",
    "* Add an absolute and a relative temporal distribution (what is the result?)\n",
    "* Add two relative temporal distributions (concatenates the arrays)\n",
    "\n",
    "Every mathematical operation produces a new temporal distribution."
   ]
  },
  {
   "cell_type": "code",
   "execution_count": null,
   "id": "cc033f90-3529-4a0e-8426-bf65e1ee9d5b",
   "metadata": {},
   "outputs": [],
   "source": [
    "(one_day * td).graph()"
   ]
  },
  {
   "cell_type": "markdown",
   "id": "25b6bd1f-0fb9-426f-b032-4d1de2f7d048",
   "metadata": {},
   "source": [
    "The above graph looks a bit weird, but it is correct. Can you figure out why there aren't five lines of points?\n",
    "\n",
    "Let's do a simpler example to see how discrete convolution works. We can take two temporal distributions, each with only three values:\n",
    "\n",
    "```python\n",
    "a = TemporalDistribution(\n",
    "    date=np.array([-1, 0, 1], dtype='timedelta64[M]'),  # `M` is months\n",
    "    amount=np.array([0.2, 0.6, 0.2])\n",
    ")\n",
    "b = TemporalDistribution(\n",
    "    date=np.array([-2, -1, 0], dtype='timedelta64[M]'),\n",
    "    amount=np.array([0.5, 0.3, 0.2])\n",
    ")\n",
    "```\n",
    "\n",
    "Discrete convolution is just *adding* each possible combination of relative or absolute dates, *multiplying* each respective possible combination of amounts, and then combining them in the correct order while addint together duplicate values.\n",
    "\n",
    "Here are our dates:\n",
    "\n",
    "| | -1 (a0) | 0 (a1) | 1 (a2) |\n",
    "| --- | --- | --- | --- |\n",
    "| -2 (b0) | -3 | -2 | -1 |\n",
    "| -1 (b1) | -2 | -1 | 0 |\n",
    "| 0 (b2) | -1 | 0 | 1 |\n",
    "\n",
    "And our amounts:\n",
    "\n",
    "| | 0.2 (a0) | 0.6 (a1) | 0.2 (a2) |\n",
    "| --- | --- | --- | --- |\n",
    "| 0.5 (b0) | 0.1 | 0.3 | 0.1 |\n",
    "| 0.3 (b1) | 0.06 | 0.18 | 0.06 |\n",
    "| 0.2 (b2) | 0.04 | 0.12 | 0.04 |\n",
    "\n",
    "We need to combine the amounts that occur at the same time:\n",
    "\n",
    "| When | -3 | -2 | -1 | 0 | 1 |\n",
    "| --- | --- | --- | --- | --- | --- |\n",
    "| What | 0.1 | 0.06 + 0.3 | 0.04 + 0.18 + 0.1 | 0.12 + 0.06 | 0.04 |\n",
    "\n",
    "And we get our new distribution:\n",
    "\n",
    "| When | -3 | -2 | -1 | 0 | 1 |\n",
    "| --- | --- | --- | --- | --- | --- |\n",
    "| What | 0.1 | 0.36 | 0.32 | 0.18 | 0.04 |\n"
   ]
  },
  {
   "cell_type": "code",
   "execution_count": null,
   "id": "c928a603-7269-4674-bb21-b2bb1ce23c37",
   "metadata": {},
   "outputs": [],
   "source": [
    "a = TemporalDistribution(\n",
    "    date=np.array([-1, 0, 1], dtype='timedelta64[M]'),  # `M` is months\n",
    "    amount=np.array([0.2, 0.6, 0.2])\n",
    ")\n",
    "b = TemporalDistribution(\n",
    "    date=np.array([-2, -1, 0], dtype='timedelta64[M]'),\n",
    "    amount=np.array([0.5, 0.3, 0.2])\n",
    ")\n",
    "c = a * b\n",
    "c.date.astype('timedelta64[M]'), c.amount"
   ]
  },
  {
   "cell_type": "markdown",
   "id": "21379de6-72d7-4aa8-af90-a9210e6fb67d",
   "metadata": {},
   "source": [
    "Note that the total amount stays the same: it was one for both `a` and `b`, and is the same for `c`."
   ]
  },
  {
   "cell_type": "code",
   "execution_count": null,
   "id": "b9017b97-bcc8-4c8e-9bee-574a2e8d67c7",
   "metadata": {},
   "outputs": [],
   "source": [
    "c.amount.sum()"
   ]
  },
  {
   "cell_type": "markdown",
   "id": "bf1abed8-71b1-4c4c-bc0a-07807453c06c",
   "metadata": {},
   "source": [
    "You won't really understand all this unless you play with it! Please do the following:\n",
    "\n",
    "* Add a random number to both `td` and `one_day` and graph the results. Use `a` and `b` to insert new cells in the notebook.\n",
    "* Construct another *relative* (i.e. `timedelta`) temporal distribution, (use `c` and `v` keys to copy and paste the existing cell), and multiply the two relative temporal distributions. Graph the result. Do you understand the result?\n",
    "* *Add* the two relative distributions and see what happens. Can you see why we don't use addition in Temporalis?\n",
    "* Construct a new *absolute* (i.e. `datetime`) distribution, and multiply it by ony of your relative distributions. Work out the expected result by hand, and see if you get the correct answer.\n",
    "\n",
    "## [`NewNodeEachVisitGraphTraversal` (source code)](https://github.com/brightway-lca/bw_graph_tools/blob/main/bw_graph_tools/graph_traversal.py#L159)\n",
    "\n",
    "Our supply chain graphs have cycles, and we need to decide how to handle these cycles when doing temporally-aware graph traversal. Here is a simple example:\n",
    "\n",
    "<img src=\"images/circle.png\">\n",
    "\n",
    "There are two ways to handle this in graph traversal:\n",
    "\n",
    "* We only visit each node once - when we encounter it again, we ignore it, as we have already visited it.\n",
    "* Every visit to a node is treated separately\n",
    "\n",
    "See also [Are there infinitely many trucks in the technosphere, or exactly one?](https://link.springer.com/article/10.1007/s11367-018-1519-8).\n",
    "\n",
    "We have to follow approach two in temporally-aware graph traversal, because each *time* we visit a node it is a different *time* (not sure this is a dad joke or just awkward working :p). That's why the name of our graph traversal class is so long: `NewNodeEachVisitGraphTraversal`. Each time we see a node in the graph, we create a [new instance of a `Node` dataclass](https://github.com/brightway-lca/bw_graph_tools/blob/b2309b2fdaac46f586117d9e45df5ffd0769e31e/bw_graph_tools/graph_traversal.py#L52), and we store a bunch of data, including:\n",
    "\n",
    "* unique_id : A unique integer id for this visit to this activity node\n",
    "* activity_datapackage_id : The id that identifies this activity in the datapackage, and hence in the database\n",
    "* supply_amount : The amount of the *activity* (not reference product!) needed to supply the demand from the requesting supply chain edge.\n",
    "* cumulative_score : Total LCIA score attributed to `supply_amount` of this activity. Includes direct emissions unless explicitly removed.\n",
    "* direct_emissions_score : Total LCIA score attributed only to the direct characterized biosphere flows of `supply_amount` of this activity.\n",
    "\n",
    "So, if in our simple example we started with `A`, we would add `A(unique_id=0)`, then follow the link to `B(unique_id=1)`, then `A(unique_id=2)`, then `B(unique_id=3)`, etc., until we hit some cut-off criteria. Our graph traversal algorithm is *priority-first* - that means we follow the next available edge in the supply chain with the highest impact. Traditional graph traversal is normally breadth-first:\n",
    "\n",
    "<img src=\"images/breadth.png\">\n",
    "\n",
    "Or depth-first:\n",
    "\n",
    "<img src=\"images/depth.png\">\n",
    "\n",
    "Breadth-first is very inefficient, as in a real background database we would quickly reach millions of edges with no real contributions, while depth first doesn't make sense as our graph is highly cyclic, so there is no \"bottom\" layer. Instead, we let the LCIA scores tell us what next to calculate:\n",
    "\n",
    "<img src=\"images/priority.png\">\n",
    "\n",
    "This is a bit complicated, especially if you are new to thinking in code; you can read the source code and [the tests](https://github.com/brightway-lca/bw_graph_tools/tree/b2309b2fdaac46f586117d9e45df5ffd0769e31e/tests/traversal) to see the results of a graph traveral algorithm.\n",
    "\n",
    "## [`Timeline` (source code)](https://github.com/brightway-lca/bw_temporalis/blob/6517a0677d0e854d41eed1155df388e56837207d/bw_temporalis/timeline.py#L37)\n",
    "\n",
    "After we do graph traversal, and convolve our temporal distributions whenever we meet them, we have a disorganized pile of data. We can assemble the distributions together into a timeline of when emissions occur, sorted by time, and noting both the emission id and the id of the activity which caused the emission.\n",
    "\n",
    "Let's make an example system to see this in action. Thanks to Giuseppe Cardellini for this example data."
   ]
  },
  {
   "cell_type": "code",
   "execution_count": null,
   "id": "d00df98a-fcae-4160-a30f-54aed29c1f19",
   "metadata": {
    "editable": true,
    "slideshow": {
     "slide_type": ""
    },
    "tags": []
   },
   "outputs": [],
   "source": [
    "bd.projects.set_current(\"Temporalis example project\")"
   ]
  },
  {
   "cell_type": "markdown",
   "id": "b0008ee1-b683-4e1f-80c9-bf7c0de5d494",
   "metadata": {},
   "source": [
    "In the following code, I use both `TemporalDistribution` and `easy_timedelta_distribution`. I recommend using the `easy` functions when possible, as it will help prevent you from making silly mistakes. For example, when preparing this notebook I made multiple silly mistakes in not making sure my temporal distributions summed to (positive) one, and lost a bunch of time. If you use `TemporalDistribution`, you can run the utility function `bw_temporalis.check_database_exchanges` to make sure everything is the way its supposed to be."
   ]
  },
  {
   "cell_type": "code",
   "execution_count": null,
   "id": "79a523bc",
   "metadata": {
    "tags": []
   },
   "outputs": [],
   "source": [
    "bd.Database('temporalis-example').write({\n",
    "    ('temporalis-example', \"CO2\"): {\n",
    "        \"type\": \"emission\",\n",
    "        \"name\": \"carbon dioxide\",\n",
    "        \"temporalis code\": \"co2\",\n",
    "    },\n",
    "    ('temporalis-example', \"CH4\"): {\n",
    "        \"type\": \"emission\",\n",
    "        \"name\": \"methane\",\n",
    "        \"temporalis code\": \"ch4\",\n",
    "    },\n",
    "    ('temporalis-example', 'Functional Unit'): {\n",
    "        'name': 'Functional Unit',\n",
    "        'exchanges': [\n",
    "            {\n",
    "                'amount': 5,\n",
    "                'input': ('temporalis-example', 'EOL'),\n",
    "                'temporal_distribution': easy_timedelta_distribution(\n",
    "                    start=0,\n",
    "                    end=4, # Range includes both start and end\n",
    "                    resolution=\"Y\",  # M for months, Y for years, etc.\n",
    "                    steps=5,\n",
    "                ),\n",
    "                'type': 'technosphere'\n",
    "            },\n",
    "        ],\n",
    "    },\n",
    "    ('temporalis-example', 'EOL'): {\n",
    "        'exchanges': [\n",
    "            {\n",
    "                'amount': 0.8,\n",
    "                'input': ('temporalis-example', 'Waste'),\n",
    "                'type': 'technosphere'\n",
    "            },\n",
    "            {\n",
    "                'amount': 0.2,\n",
    "                'input': ('temporalis-example', 'Landfill'),\n",
    "                'type': 'technosphere'\n",
    "            },\n",
    "            {\n",
    "                'amount': 1,\n",
    "                'input': ('temporalis-example', 'Use'),\n",
    "                'type': 'technosphere'\n",
    "            },\n",
    "        ],\n",
    "        'name': 'EOL',\n",
    "        'type': 'process'\n",
    "    },\n",
    "    ('temporalis-example', 'Use'): {\n",
    "        'exchanges': [\n",
    "            {\n",
    "                'amount': 1,\n",
    "                'input': ('temporalis-example', 'Production'),\n",
    "                'temporal_distribution': TemporalDistribution(\n",
    "                    np.array([-4], dtype='timedelta64[M]'),\n",
    "                    np.array([1.0])\n",
    "                ),\n",
    "                'type': 'technosphere'\n",
    "            },\n",
    "        ],\n",
    "        'name': 'Use',\n",
    "    },\n",
    "    ('temporalis-example', 'Production'): {\n",
    "        'exchanges': [\n",
    "            {\n",
    "                'amount': 1,\n",
    "                'input': ('temporalis-example', 'Transport'),\n",
    "                'temporal_distribution': TemporalDistribution(\n",
    "                    np.array([200],dtype='timedelta64[D]'),\n",
    "                    np.array([1.0])\n",
    "                ),\n",
    "                'type': 'technosphere'\n",
    "            },\n",
    "        ],\n",
    "        'name': 'Production',\n",
    "        'type': 'process'\n",
    "    },\n",
    "    ('temporalis-example', 'Transport'): {\n",
    "        'exchanges': [\n",
    "            {\n",
    "                'amount': 1,\n",
    "                'input': ('temporalis-example', 'Sawmill'),\n",
    "                'type': 'technosphere'\n",
    "            },\n",
    "            {\n",
    "                'amount': 0.1,\n",
    "                'input': ('temporalis-example', 'CO2'),\n",
    "                'type': 'biosphere'\n",
    "            },\n",
    "        ],\n",
    "        'name': 'Production',\n",
    "        'type': 'process'\n",
    "    },\n",
    "    ('temporalis-example', 'Sawmill'): {\n",
    "        'exchanges': [\n",
    "            {\n",
    "                'amount': 1.2,\n",
    "                'input': ('temporalis-example', 'Forest'),\n",
    "                'temporal_distribution': TemporalDistribution(\n",
    "                    np.array([-14], dtype='timedelta64[M]'),\n",
    "                    np.array([1.0])\n",
    "                ),\n",
    "                'type': 'technosphere'\n",
    "            },\n",
    "            {\n",
    "                'amount': 0.1,\n",
    "                'input': ('temporalis-example', 'CO2'),\n",
    "                'type': 'biosphere'\n",
    "            },\n",
    "        ],\n",
    "        'name': 'Sawmill',\n",
    "        'type': 'process'\n",
    "    },\n",
    "    ('temporalis-example', 'Forest'): {\n",
    "        'exchanges': [\n",
    "            {\n",
    "                'amount': -.1 * 6,\n",
    "                'input': ('temporalis-example', 'CO2'),\n",
    "                'temporal_distribution': TemporalDistribution(\n",
    "                    np.array([-4, -3, 0, 1, 2, 5], dtype='timedelta64[Y]'),\n",
    "                    np.ones(6) * (1/6)\n",
    "                ),\n",
    "                'type': 'biosphere'\n",
    "            },\n",
    "            {\n",
    "                'amount': 1.5,\n",
    "                'input': ('temporalis-example', 'Thinning'),\n",
    "                'temporal_distribution': TemporalDistribution(\n",
    "                    np.array([-3, 0, 1], dtype='timedelta64[Y]'),\n",
    "                    np.ones(3) * 1/3\n",
    "                ),\n",
    "                'type': 'technosphere'\n",
    "            },\n",
    "        ],\n",
    "        'name': 'Forest',\n",
    "    },\n",
    "    ('temporalis-example', 'Thinning'): {\n",
    "        'exchanges': [\n",
    "            {\n",
    "                'amount': 1,\n",
    "                'input': ('temporalis-example', 'Thinning'),\n",
    "                'type': 'production'\n",
    "            },\n",
    "            {\n",
    "                'amount': 1,\n",
    "                'input': ('temporalis-example', 'Avoided impact - thinnings'),\n",
    "                'type': 'production'\n",
    "            },\n",
    "        ],\n",
    "        'name': 'Thinning',\n",
    "        'type': 'process'\n",
    "    },\n",
    "    ('temporalis-example', 'Landfill'): {\n",
    "        'exchanges': [\n",
    "            {\n",
    "                'amount': 0.1,\n",
    "                'input': ('temporalis-example', 'CH4'),\n",
    "                'temporal_distribution': TemporalDistribution(\n",
    "                    np.array([10, 20, 60, 100], dtype='timedelta64[M]'),\n",
    "                    np.ones(4) * 1/4\n",
    "                ),\n",
    "                'type': 'biosphere'\n",
    "            },\n",
    "        ],\n",
    "        'name': 'Landfill',\n",
    "        'type': 'process'\n",
    "    },\n",
    "    ('temporalis-example', 'Waste'): {\n",
    "        'exchanges': [\n",
    "            {\n",
    "                'amount': 1,\n",
    "                'input': ('temporalis-example', 'Waste'),\n",
    "                'type': 'production'\n",
    "            },\n",
    "            {\n",
    "                'amount': 1,\n",
    "                'input': ('temporalis-example', 'Avoided impact - waste'),\n",
    "                'type': 'production'\n",
    "            },\n",
    "        ],\n",
    "        'name': 'Waste',\n",
    "        'type': 'process'\n",
    "    },\n",
    "    ('temporalis-example', 'Avoided impact - waste'): {\n",
    "        'exchanges': [\n",
    "            {\n",
    "                'amount': -0.4,\n",
    "                'input': ('temporalis-example', 'CO2'),\n",
    "                'type': 'biosphere'\n",
    "            },\n",
    "            {\n",
    "                'amount': 1,\n",
    "                'input': ('temporalis-example', 'Avoided impact - waste'),\n",
    "                'type': 'production'\n",
    "            },\n",
    "        ],\n",
    "        'name': 'Avoided impact - waste',\n",
    "        'type': 'process'\n",
    "    },\n",
    "    ('temporalis-example', 'Avoided impact - thinnings'): {\n",
    "        'exchanges': [\n",
    "            {\n",
    "                'amount': -0.3,\n",
    "                'input': ('temporalis-example', 'CO2'),\n",
    "                'type': 'biosphere'\n",
    "            },\n",
    "            {\n",
    "                'amount': 1,\n",
    "                'input': ('temporalis-example', 'Avoided impact - thinnings'),\n",
    "                'type': 'production'\n",
    "            },\n",
    "        ],\n",
    "        'name': 'Avoided impact - thinnings',\n",
    "        'type': 'process'\n",
    "    }\n",
    "})"
   ]
  },
  {
   "cell_type": "markdown",
   "id": "221a05c3-ee06-4339-9986-bf65205264ac",
   "metadata": {},
   "source": [
    "The procedure to do temporal LCA is a bit more complicated than normal. We need to calculate the time-generic LCA using the `LCA` class, and then put this into the `TemporalisLCA`. \n",
    "\n",
    "We do it like this so that we can substitute cool new `LCA` classes (maybe regionalized LCA?) instead of only using the base `LCA` class."
   ]
  },
  {
   "cell_type": "code",
   "execution_count": null,
   "id": "8e02b150-0249-4884-90ad-f129c2c13eb2",
   "metadata": {
    "tags": []
   },
   "outputs": [],
   "source": [
    "bd.Method((\"GWP\", \"example\")).write([\n",
    "    (('temporalis-example', \"CO2\"), 1),\n",
    "    (('temporalis-example', \"CH4\"), 25),\n",
    "])"
   ]
  },
  {
   "cell_type": "code",
   "execution_count": null,
   "id": "cca6b8f2-12a3-43f9-8be2-c6a898268adf",
   "metadata": {
    "tags": []
   },
   "outputs": [],
   "source": [
    "lca = bc.LCA({('temporalis-example', 'EOL'): 1}, (\"GWP\", \"example\"))\n",
    "lca.lci()\n",
    "lca.lcia()"
   ]
  },
  {
   "cell_type": "code",
   "execution_count": null,
   "id": "d3d56515-377a-4086-921f-c8fd7efca39f",
   "metadata": {
    "tags": []
   },
   "outputs": [],
   "source": [
    "lca = TemporalisLCA(lca)"
   ]
  },
  {
   "cell_type": "code",
   "execution_count": null,
   "id": "71a4206c-130e-4e91-b189-6b3c9cd11eeb",
   "metadata": {
    "tags": []
   },
   "outputs": [],
   "source": [
    "tl = lca.build_timeline()"
   ]
  },
  {
   "cell_type": "markdown",
   "id": "a0bd4d13-8803-477b-adce-9988f8b8ed51",
   "metadata": {},
   "source": [
    "When we first build the timeline, the data isn't organized or sorted. We need to put it into a dataframe if we want to make it nicer for human consumption:"
   ]
  },
  {
   "cell_type": "code",
   "execution_count": null,
   "id": "673aa208-ce4a-451a-a0c9-1d7e287a12a3",
   "metadata": {
    "tags": []
   },
   "outputs": [],
   "source": [
    "tl.build_dataframe()"
   ]
  },
  {
   "cell_type": "markdown",
   "id": "b9e4a2d8-a2b6-45c8-9232-b73fa54d68f8",
   "metadata": {},
   "source": [
    "We can lookup what the `id` values mean:"
   ]
  },
  {
   "cell_type": "code",
   "execution_count": null,
   "id": "533e923e-5988-479c-a019-90bcf4be49d1",
   "metadata": {},
   "outputs": [],
   "source": [
    "bd.get_node(id=2), bd.get_node(id=11)"
   ]
  },
  {
   "cell_type": "markdown",
   "id": "14fef7cf-8e9c-4799-874d-0180cb622dc8",
   "metadata": {},
   "source": [
    "And graph the timeline:"
   ]
  },
  {
   "cell_type": "code",
   "execution_count": null,
   "id": "d7dcb7be-3cc4-43bb-8aad-a7081d04efe5",
   "metadata": {
    "tags": []
   },
   "outputs": [],
   "source": [
    "tl.df.plot(x=\"date\", y=\"amount\", kind=\"scatter\")"
   ]
  },
  {
   "cell_type": "markdown",
   "id": "ef70a7ef-da84-4cf8-a45c-39ed60f1c5f8",
   "metadata": {},
   "source": [
    "## Characterization\n",
    "\n",
    "Environmental impacts don't always occur at the time of emission, and aren't instantaneous. Temporalis includes some basic characterization for climate change, and we would be quite happy to have more temporally-aware LCIA methods included in the library!"
   ]
  },
  {
   "cell_type": "code",
   "execution_count": null,
   "id": "be7f1091-f062-498f-baf6-113e86702618",
   "metadata": {},
   "outputs": [],
   "source": [
    "characterized_df_co2 = tl.characterize_dataframe(\n",
    "    characterization_function=characterize_co2, \n",
    "    flow={bd.get_node(name=\"carbon dioxide\").id},\n",
    ")"
   ]
  },
  {
   "cell_type": "code",
   "execution_count": null,
   "id": "bbb67be4-724b-4399-aad5-f67254d02be3",
   "metadata": {},
   "outputs": [],
   "source": [
    "characterized_df_co2.plot(x=\"date\", y=\"amount\", kind=\"scatter\")"
   ]
  },
  {
   "cell_type": "code",
   "execution_count": null,
   "id": "d5d0c257-ae5f-4e78-a214-b07d32762d6d",
   "metadata": {},
   "outputs": [],
   "source": [
    "characterized_df_co2.plot(x=\"date\", y=\"amount_sum\", kind=\"scatter\")"
   ]
  },
  {
   "cell_type": "code",
   "execution_count": null,
   "id": "45fcb628-176a-4eec-8a7b-78e04b3e47eb",
   "metadata": {},
   "outputs": [],
   "source": [
    "characterized_df_ch4 = tl.characterize_dataframe(\n",
    "    characterization_function=characterize_methane, \n",
    "    flow={bd.get_node(name=\"methane\").id},\n",
    ")"
   ]
  },
  {
   "cell_type": "code",
   "execution_count": null,
   "id": "9a6f3e10-fd5f-46c4-bc44-dc49424023b7",
   "metadata": {},
   "outputs": [],
   "source": [
    "characterized_df_ch4.plot(x=\"date\", y=\"amount_sum\", kind=\"scatter\")"
   ]
  },
  {
   "cell_type": "markdown",
   "id": "dfdc2974-9225-413e-9120-dbfaa253d2ce",
   "metadata": {},
   "source": [
    "We can add these two characterized dataframes together to get net radiative forcing (in watts per square meter) over time:"
   ]
  },
  {
   "cell_type": "code",
   "execution_count": null,
   "id": "1e7b5c28-b63d-4041-ac91-9a1708ee4563",
   "metadata": {
    "tags": []
   },
   "outputs": [],
   "source": [
    "aggregate_df = pd.concat([characterized_df_ch4, characterized_df_co2])\n",
    "aggregate_df.sort_values(by=\"date\", ascending=True, inplace=True)\n",
    "aggregate_df[\"amount_sum\"] = aggregate_df[\"amount\"].cumsum()"
   ]
  },
  {
   "cell_type": "code",
   "execution_count": null,
   "id": "f41dc2fd-40f9-4d4e-afd7-502518e8dd83",
   "metadata": {
    "tags": []
   },
   "outputs": [],
   "source": [
    "axes = aggregate_df.plot(x=\"date\", y=\"amount_sum\")\n",
    "axes.set_ylabel(\"Radiative forcing $\\\\frac{Watt}{m^{2}}$\")\n",
    "axes.set_xlabel(\"Time (years)\")"
   ]
  }
 ],
 "metadata": {
  "kernelspec": {
   "display_name": "Python 3 (ipykernel)",
   "language": "python",
   "name": "python3"
  },
  "language_info": {
   "codemirror_mode": {
    "name": "ipython",
    "version": 3
   },
   "file_extension": ".py",
   "mimetype": "text/x-python",
   "name": "python",
   "nbconvert_exporter": "python",
   "pygments_lexer": "ipython3",
   "version": "3.10.11"
  }
 },
 "nbformat": 4,
 "nbformat_minor": 5
}
