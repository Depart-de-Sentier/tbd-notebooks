{
 "cells": [
  {
   "cell_type": "code",
   "execution_count": null,
   "id": "90ecd054-497a-4b92-8d75-9bda59d1edf1",
   "metadata": {},
   "outputs": [],
   "source": [
    "import bw2data as bd\n",
    "import bw2regional as bwr\n",
    "from pathlib import Path"
   ]
  },
  {
   "cell_type": "code",
   "execution_count": null,
   "id": "67bd9eec-a961-4b05-9adc-5d25f78bac1d",
   "metadata": {},
   "outputs": [],
   "source": [
    "PROJECT_NAME = \"Spain case study\""
   ]
  },
  {
   "cell_type": "code",
   "execution_count": null,
   "id": "89f9c1b0-38e1-490a-8d02-5fd89303cf8f",
   "metadata": {},
   "outputs": [],
   "source": [
    "RESET = True"
   ]
  },
  {
   "cell_type": "code",
   "execution_count": null,
   "id": "60f26996-8a34-42f0-852d-7583c03e19ed",
   "metadata": {},
   "outputs": [],
   "source": [
    "if PROJECT_NAME in bd.projects and RESET:\n",
    "    bd.projects.delete_project(PROJECT_NAME, True) "
   ]
  },
  {
   "cell_type": "code",
   "execution_count": null,
   "id": "46049ab4-8536-41a9-947b-3827bca889a7",
   "metadata": {},
   "outputs": [],
   "source": [
    "bd.projects.set_current(PROJECT_NAME)"
   ]
  },
  {
   "cell_type": "code",
   "execution_count": null,
   "id": "809abfae-58ee-4957-a389-daa54857b6e7",
   "metadata": {},
   "outputs": [],
   "source": [
    "data_dir = Path.cwd().absolute() / \"data\"\n",
    "assert data_dir.is_dir()"
   ]
  },
  {
   "cell_type": "markdown",
   "id": "96b266e0-59c0-4391-98e5-d7d5dee539be",
   "metadata": {},
   "source": [
    "Tell `bw2regional` about our maps."
   ]
  },
  {
   "cell_type": "markdown",
   "id": "04c08b5d-a22f-41bc-b7e9-c886ff77b083",
   "metadata": {},
   "source": [
    "Data from Natural Earth Data. Needed to create another column named `city_id` with a string data type."
   ]
  },
  {
   "cell_type": "code",
   "execution_count": null,
   "id": "16b57324-cc3f-4358-a564-bc85de7f3dc9",
   "metadata": {},
   "outputs": [],
   "source": [
    "bwr.geocollections['cities'] = {\n",
    "    'filepath': str(data_dir / 'cities.gpkg'),\n",
    "    'field': 'city_id',\n",
    "}"
   ]
  },
  {
   "cell_type": "code",
   "execution_count": null,
   "id": "be64ffbb-da90-461b-97ac-b15a2f7b1534",
   "metadata": {},
   "outputs": [],
   "source": [
    "bwr.geocollections['regions'] = {\n",
    "    'filepath': str(data_dir / 'regions.gpkg'),\n",
    "    'field': 'name',\n",
    "}"
   ]
  },
  {
   "cell_type": "code",
   "execution_count": null,
   "id": "8159b9e8-00bf-4f23-b8bb-d1c88edb7dbc",
   "metadata": {},
   "outputs": [],
   "source": [
    "bwr.geocollections['countries'] = {\n",
    "    'filepath': str(data_dir / 'countries.gpkg'),\n",
    "    'field': 'NAME',\n",
    "}"
   ]
  },
  {
   "cell_type": "markdown",
   "id": "f0ea19c6-1ebd-413c-b277-d3a57539fe1b",
   "metadata": {},
   "source": [
    "CF map from [WRI](https://www.wri.org/data/aqueduct-water-stress-projections-data)"
   ]
  },
  {
   "cell_type": "code",
   "execution_count": null,
   "id": "907897d0-4e3a-4e76-8283-9837952ec7ea",
   "metadata": {},
   "outputs": [],
   "source": [
    "bwr.geocollections['water-stress'] = {\n",
    "    'filepath': str(data_dir / 'spain_water_stress.gpkg'),\n",
    "    'field': 'BasinID',\n",
    "}"
   ]
  },
  {
   "cell_type": "markdown",
   "id": "3285ce8f-3c93-445f-87e0-2ef44385b90b",
   "metadata": {},
   "source": [
    "Data from [Estimation of spatial distribution of irrigated crop areas in Europe for large-scale modelling applications](https://www.sciencedirect.com/science/article/pii/S0378377422000749?via%3Dihub#sec0060), via [Agri4Cast](https://agri4cast.jrc.ec.europa.eu/DataPortal/Index.aspx?o=).\n",
    "\n",
    "Data also [available here](https://files.brightway.dev/europe_irrigated.gpkg).\n",
    "\n",
    "GDAL commands to extract and process the rasters:\n",
    "\n",
    "```bash\n",
    "gdal_rasterize -a IR_citrus -init -999 -a_nodata -999 -ts 400 400 -of GTIFF irrigation.gpkg citrus.p.tiff\n",
    "gdal_rasterize -a IR_potatoe -init -999 -a_nodata -999 -ts 400 400 -of GTIFF irrigation.gpkg potatoe.p.tiff\n",
    "gdal_rasterize -a IR_rice -init -999 -a_nodata -999 -ts 400 400 -of GTIFF irrigation.gpkg rice.p.tiff\n",
    "gdal_rasterize -a IR_cereals -init -999 -a_nodata -999 -ts 400 400 -of GTIFF irrigation.gpkg cereals.p.tiff\n",
    "\n",
    "gdalwarp -t_srs EPSG:4326 rice.p.tiff rice.tiff\n",
    "gdalwarp -t_srs EPSG:4326 potatoe.p.tiff potatoe.tiff\n",
    "gdalwarp -t_srs EPSG:4326 cereals.p.tiff cereals.tiff\n",
    "gdalwarp -t_srs EPSG:4326 citrus.p.tiff citrus.tiff\n",
    "```"
   ]
  },
  {
   "cell_type": "code",
   "execution_count": null,
   "id": "10001d08-f72d-4b48-8d9e-7d64a03f946e",
   "metadata": {},
   "outputs": [],
   "source": [
    "CROPS = ['cereals', 'citrus', 'rice', 'potatoe']"
   ]
  },
  {
   "cell_type": "code",
   "execution_count": null,
   "id": "8c696bb2-133e-4b9e-85aa-d043360165c4",
   "metadata": {},
   "outputs": [],
   "source": [
    "for crop in CROPS:\n",
    "    bwr.geocollections[crop] = {'filepath': str(data_dir / f'{crop}.tiff'), 'nodata': -999}"
   ]
  },
  {
   "cell_type": "code",
   "execution_count": null,
   "id": "caec0f1d-9609-42e4-84dd-1eaaae07f7a6",
   "metadata": {},
   "outputs": [],
   "source": [
    "bio = bd.Database(\"biosphere\")\n",
    "bio.register()"
   ]
  },
  {
   "cell_type": "code",
   "execution_count": null,
   "id": "a78982a6-4eeb-4671-9cae-d6fd0dc92565",
   "metadata": {
    "tags": []
   },
   "outputs": [],
   "source": [
    "h2o = bio.new_node(\n",
    "    code=\"water\",\n",
    "    name=\"water\",\n",
    "    type=\"emission\",\n",
    ")\n",
    "h2o.save()"
   ]
  },
  {
   "cell_type": "code",
   "execution_count": null,
   "id": "22dbfaf7-4415-4dd1-9297-59ae28c98634",
   "metadata": {},
   "outputs": [],
   "source": [
    "co2 = bio.new_node(\n",
    "    code=\"co2\",\n",
    "    name=\"co2\",\n",
    "    type=\"emission\",\n",
    ")\n",
    "co2.save()"
   ]
  },
  {
   "cell_type": "code",
   "execution_count": null,
   "id": "e5b03078-5562-4826-8b9a-80c8885515b2",
   "metadata": {},
   "outputs": [],
   "source": [
    "ch4 = bio.new_node(\n",
    "    code=\"ch4\",\n",
    "    name=\"ch4\",\n",
    "    type=\"emission\",\n",
    ")\n",
    "ch4.save()"
   ]
  },
  {
   "cell_type": "code",
   "execution_count": null,
   "id": "f33c2e1f-fe22-494c-ba92-67c56c169501",
   "metadata": {},
   "outputs": [],
   "source": [
    "bio.set_geocollections()"
   ]
  },
  {
   "cell_type": "markdown",
   "id": "351ce720-30d4-49c6-b6ae-f346cc4959e0",
   "metadata": {},
   "source": [
    "Just in case things go wrong later :)"
   ]
  },
  {
   "cell_type": "code",
   "execution_count": null,
   "id": "028a3621-d700-4a7e-8f34-6a7a4cb59ccb",
   "metadata": {},
   "outputs": [],
   "source": [
    "h2o = bd.get_node(name=\"water\")"
   ]
  },
  {
   "cell_type": "code",
   "execution_count": null,
   "id": "1cb17f8e-fb49-46cc-9cde-6ed294b816e5",
   "metadata": {},
   "outputs": [],
   "source": [
    "food = bd.Database(\"food\")\n",
    "food.register()"
   ]
  },
  {
   "cell_type": "code",
   "execution_count": null,
   "id": "4ae2eee9-2a50-41e0-a463-243bfc5b19da",
   "metadata": {},
   "outputs": [],
   "source": [
    "lemon = food.new_node(\n",
    "    code=\"lemon\",\n",
    "    name=\"lemon\",\n",
    "    location=('regions', 'Granada')\n",
    ")\n",
    "lemon.save()\n",
    "lemon.new_edge(\n",
    "    input=h2o,\n",
    "    amount=5,\n",
    "    type=\"biosphere\",\n",
    ").save()"
   ]
  },
  {
   "cell_type": "code",
   "execution_count": null,
   "id": "c717ba4c-2a1f-4418-b784-633503155820",
   "metadata": {},
   "outputs": [],
   "source": [
    "mushroom = food.new_node(\n",
    "    code=\"mushroom\",\n",
    "    name=\"mushroom\",\n",
    "    location=('countries', 'Portugal')\n",
    ")\n",
    "mushroom.save()\n",
    "mushroom.new_edge(\n",
    "    input=h2o,\n",
    "    amount=0.5,\n",
    "    type=\"biosphere\",\n",
    ").save()"
   ]
  },
  {
   "cell_type": "code",
   "execution_count": null,
   "id": "fa26cdd9-c877-4867-b2b2-46715ffc05c1",
   "metadata": {},
   "outputs": [],
   "source": [
    "cheese = food.new_node(\n",
    "    code=\"cheese\",\n",
    "    name=\"cheese\",\n",
    "    location=('countries', 'Spain')\n",
    ")\n",
    "cheese.save()\n",
    "cheese.new_edge(\n",
    "    input=h2o,\n",
    "    amount=25,\n",
    "    type=\"biosphere\",\n",
    ").save()"
   ]
  },
  {
   "cell_type": "code",
   "execution_count": null,
   "id": "f821178a-5d27-460f-b3ed-19cb0cb1acc8",
   "metadata": {},
   "outputs": [],
   "source": [
    "rice = food.new_node(\n",
    "    code=\"rice\",\n",
    "    name=\"rice\",\n",
    "    location=('regions', 'Valencia')\n",
    ")\n",
    "rice.save()\n",
    "rice.new_edge(\n",
    "    input=h2o,\n",
    "    amount=10,\n",
    "    type=\"biosphere\",\n",
    ").save()"
   ]
  },
  {
   "cell_type": "code",
   "execution_count": null,
   "id": "cd925e9b-634f-4b9a-b744-5e2f92826c09",
   "metadata": {},
   "outputs": [],
   "source": [
    "meal = food.new_node(\n",
    "    code=\"meal\",\n",
    "    name=\"meal\",\n",
    "    location=('cities', '14')\n",
    ")\n",
    "meal.save()\n",
    "meal.new_edge(\n",
    "    input=h2o,\n",
    "    amount=0.5,\n",
    "    type=\"biosphere\",\n",
    ").save()\n",
    "meal.new_edge(\n",
    "    input=lemon,\n",
    "    amount=0.25,\n",
    "    type=\"technosphere\",\n",
    ").save()\n",
    "meal.new_edge(\n",
    "    input=rice,\n",
    "    amount=1,\n",
    "    type=\"technosphere\",\n",
    ").save()\n",
    "meal.new_edge(\n",
    "    input=mushroom,\n",
    "    amount=0.5,\n",
    "    type=\"technosphere\",\n",
    ").save()"
   ]
  },
  {
   "cell_type": "code",
   "execution_count": null,
   "id": "d1e75cf2-6847-467e-9013-e42ca4d246e9",
   "metadata": {},
   "outputs": [],
   "source": [
    "meal.new_edge(\n",
    "    input=cheese,\n",
    "    amount=0.1,\n",
    "    type=\"technosphere\",\n",
    ").save()"
   ]
  },
  {
   "cell_type": "code",
   "execution_count": null,
   "id": "c36fabf3-7c13-4a63-9539-00cd1a4be093",
   "metadata": {},
   "outputs": [],
   "source": [
    "food.set_geocollections()"
   ]
  },
  {
   "cell_type": "code",
   "execution_count": null,
   "id": "9b2d72dc-440f-4a72-b859-ac145471bcdd",
   "metadata": {},
   "outputs": [],
   "source": [
    "GLOBAL_CF = 1.2464223343237526"
   ]
  },
  {
   "cell_type": "code",
   "execution_count": null,
   "id": "3a43b6e4-5604-4cf1-945c-5df0de368d2c",
   "metadata": {},
   "outputs": [],
   "source": [
    "bd.Method((\"water stress\", \"site-generic\")).write([\n",
    "    (bd.get_node(name=\"water\").key, GLOBAL_CF)\n",
    "])"
   ]
  },
  {
   "cell_type": "code",
   "execution_count": null,
   "id": "3d99eaa6-19cc-4154-a1e8-8c9064ed78f0",
   "metadata": {},
   "outputs": [],
   "source": [
    "import fiona\n",
    "from shapely.geometry import shape\n",
    "from collections import defaultdict\n",
    "import numpy as np"
   ]
  },
  {
   "cell_type": "code",
   "execution_count": null,
   "id": "af057911-ad37-494e-bee2-859da3ea4e1d",
   "metadata": {},
   "outputs": [],
   "source": [
    "ws = bwr.geocollections['water-stress']\n",
    "regions = bwr.geocollections['regions']\n",
    "cities = bwr.geocollections['cities']\n",
    "countries = bwr.geocollections['countries']\n",
    "\n",
    "cfs = defaultdict(list)\n",
    "\n",
    "def add_cfs(cfs, meta, other, label):\n",
    "    with fiona.open(meta['filepath']) as dataset:\n",
    "        for feature in dataset:\n",
    "            if other.intersects(shape(feature['geometry'])):\n",
    "                cfs[(label, feature.properties[meta['field']])].append(ws_feature.properties[\"ws2038cr\"])\n",
    "    return cfs \n",
    "           \n",
    "    \n",
    "with fiona.open(ws['filepath']) as ws:\n",
    "    for ws_feature in ws:\n",
    "        ws_geometry = shape(ws_feature['geometry'])\n",
    "        cfs = add_cfs(cfs, regions, ws_geometry, 'regions')\n",
    "        cfs = add_cfs(cfs, cities, ws_geometry, 'cities')\n",
    "        cfs = add_cfs(cfs, countries, ws_geometry, 'countries')"
   ]
  },
  {
   "cell_type": "code",
   "execution_count": null,
   "id": "222183bc-1ef9-448c-9f33-3a2c89ffea20",
   "metadata": {},
   "outputs": [],
   "source": [
    "formatted_cfs = [(h2o.key, np.average(values), where) for where, values in cfs.items()]"
   ]
  },
  {
   "cell_type": "code",
   "execution_count": null,
   "id": "b1aae204-8619-4cc2-aa55-006e76395c5a",
   "metadata": {},
   "outputs": [],
   "source": [
    "bd.Method((\"water stress\", \"shared_scale\")).write(formatted_cfs)"
   ]
  },
  {
   "cell_type": "code",
   "execution_count": null,
   "id": "1a694982-7406-4e2c-a665-697ea78898e6",
   "metadata": {},
   "outputs": [],
   "source": [
    "water_stress = bd.Method((\"water stress\",))\n",
    "water_stress.register()"
   ]
  },
  {
   "cell_type": "code",
   "execution_count": null,
   "id": "dfd88c0c-1858-46d2-9c29-5926cef950bc",
   "metadata": {},
   "outputs": [],
   "source": [
    "bwr.import_regionalized_cfs(\n",
    "    'water-stress',\n",
    "    (\"water stress\",),\n",
    "    {\"ws2038cr\": [h2o.key]},\n",
    "    nan_value=-1,\n",
    ")"
   ]
  },
  {
   "cell_type": "code",
   "execution_count": null,
   "id": "c49c92de-8ed1-4284-8a1f-1650bf3ff277",
   "metadata": {},
   "outputs": [],
   "source": [
    "bwr.calculate_needed_intersections({meal: 1}, (\"water stress\",))"
   ]
  },
  {
   "cell_type": "code",
   "execution_count": null,
   "id": "3a1dd3f8-35be-47ab-a9c4-f8534cf5c52d",
   "metadata": {},
   "outputs": [],
   "source": [
    "if 'cities-water-stress' not in bwr.geocollections:\n",
    "    bwr.remote.calculate_intersection('cities', 'water-stress')\n",
    "    bwr.remote.intersection_as_new_geocollection('cities', 'water-stress', 'cities-water-stress')"
   ]
  },
  {
   "cell_type": "code",
   "execution_count": null,
   "id": "ac4a41d7-4775-47f2-8e93-474762e04337",
   "metadata": {},
   "outputs": [],
   "source": [
    "if 'regions-water-stress' not in bwr.geocollections:\n",
    "    bwr.remote.calculate_intersection('regions', 'water-stress')\n",
    "    bwr.remote.intersection_as_new_geocollection('regions', 'water-stress', 'regions-water-stress')"
   ]
  },
  {
   "cell_type": "code",
   "execution_count": null,
   "id": "50e3c94f-0870-4991-8b26-33a8b606e2b9",
   "metadata": {},
   "outputs": [],
   "source": [
    "if 'countries-water-stress' not in bwr.geocollections:\n",
    "    bwr.remote.calculate_intersection('countries', 'water-stress')\n",
    "    bwr.remote.intersection_as_new_geocollection('countries', 'water-stress', 'countries-water-stress')"
   ]
  },
  {
   "cell_type": "code",
   "execution_count": null,
   "id": "d2e25148",
   "metadata": {},
   "outputs": [],
   "source": [
    "bwr.geocollections['popdensity'] = {'filepath': str(data_dir / 'gpw_v4_population_density.tif')}"
   ]
  },
  {
   "cell_type": "code",
   "execution_count": null,
   "id": "fb56ed8c-7da3-49c1-a790-f6ff8997797b",
   "metadata": {},
   "outputs": [],
   "source": [
    "CROPS = ['cereals', 'citrus', 'rice', 'potatoe']"
   ]
  },
  {
   "cell_type": "code",
   "execution_count": null,
   "id": "73c6682b-dc2c-4605-93b8-bb57fe776513",
   "metadata": {},
   "outputs": [],
   "source": [
    "for crop in CROPS:\n",
    "    if f'cities-water-stress - {crop}' not in bwr.extension_tables:\n",
    "        bwr.raster_as_extension_table('cities-water-stress', crop, engine='rasterstats')\n",
    "    if f'regions-water-stress - {crop}' not in bwr.extension_tables:\n",
    "        bwr.raster_as_extension_table('regions-water-stress', crop, engine='rasterstats')\n",
    "    if f'countries-water-stress - {crop}' not in bwr.extension_tables:\n",
    "        bwr.raster_as_extension_table('countries-water-stress', crop, engine='rasterstats')        "
   ]
  },
  {
   "cell_type": "code",
   "execution_count": null,
   "id": "2a4534bf-5c22-4e5f-b5b9-aa4678895d17",
   "metadata": {},
   "outputs": [],
   "source": [
    "for xt in bwr.extension_tables:\n",
    "    bwr.calculate_needed_intersections({meal: 1}, (\"water stress\",), xt)"
   ]
  }
 ],
 "metadata": {
  "kernelspec": {
   "display_name": "Python [conda env:regional]",
   "language": "python",
   "name": "conda-env-regional-py"
  },
  "language_info": {
   "codemirror_mode": {
    "name": "ipython",
    "version": 3
   },
   "file_extension": ".py",
   "mimetype": "text/x-python",
   "name": "python",
   "nbconvert_exporter": "python",
   "pygments_lexer": "ipython3",
   "version": "3.10.10"
  }
 },
 "nbformat": 4,
 "nbformat_minor": 5
}
