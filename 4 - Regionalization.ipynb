{
 "cells": [
  {
   "cell_type": "code",
   "execution_count": null,
   "id": "90ecd054-497a-4b92-8d75-9bda59d1edf1",
   "metadata": {},
   "outputs": [],
   "source": [
    "import bw2data as bd\n",
    "import bw2regional as bwr"
   ]
  },
  {
   "cell_type": "code",
   "execution_count": null,
   "id": "67bd9eec-a961-4b05-9adc-5d25f78bac1d",
   "metadata": {},
   "outputs": [],
   "source": [
    "PROJECT_NAME = \"Spain case study\""
   ]
  },
  {
   "cell_type": "code",
   "execution_count": null,
   "id": "46049ab4-8536-41a9-947b-3827bca889a7",
   "metadata": {},
   "outputs": [],
   "source": [
    "bd.projects.set_current(PROJECT_NAME)"
   ]
  },
  {
   "cell_type": "code",
   "execution_count": null,
   "id": "77a15199-be05-46b8-9e0b-d5a1f7280073",
   "metadata": {},
   "outputs": [],
   "source": [
    "if 'cities-water-stress' not in bwr.geocollections:\n",
    "    bwr.remote.calculate_intersection('cities', 'water-stress')\n",
    "    bwr.remote.intersection_as_new_geocollection('cities', 'water-stress', 'cities-water-stress')"
   ]
  },
  {
   "cell_type": "code",
   "execution_count": null,
   "id": "348c2f60-cc21-4866-b5ff-1e8b0953655e",
   "metadata": {},
   "outputs": [],
   "source": [
    "if 'regions-water-stress' not in bwr.geocollections:\n",
    "    bwr.remote.calculate_intersection('regions', 'water-stress')\n",
    "    bwr.remote.intersection_as_new_geocollection('regions', 'water-stress', 'regions-water-stress')"
   ]
  },
  {
   "cell_type": "code",
   "execution_count": null,
   "id": "d388f3f2-13d4-4a5b-872a-09335db641d0",
   "metadata": {},
   "outputs": [],
   "source": [
    "if 'countries-water-stress' not in bwr.geocollections:\n",
    "    bwr.remote.calculate_intersection('countries', 'water-stress')\n",
    "    bwr.remote.intersection_as_new_geocollection('countries', 'water-stress', 'countries-water-stress')"
   ]
  },
  {
   "cell_type": "code",
   "execution_count": null,
   "id": "b35c45aa-6596-4d20-9964-d32d34fcb267",
   "metadata": {},
   "outputs": [],
   "source": [
    "CROPS = ['cereals', 'citrus', 'rice', 'potatoe']"
   ]
  },
  {
   "cell_type": "code",
   "execution_count": null,
   "id": "7ccfe4fb-a2c1-4d43-a049-5b2aac0f88c4",
   "metadata": {},
   "outputs": [],
   "source": [
    "for crop in CROPS:\n",
    "    if f'cities-water-stress - {crop}' not in bwr.extension_tables:\n",
    "        bwr.raster_as_extension_table('cities-water-stress', crop, engine='rasterstats')\n",
    "    if f'regions-water-stress - {crop}' not in bwr.extension_tables:\n",
    "        bwr.raster_as_extension_table('regions-water-stress', crop, engine='rasterstats')\n",
    "    if f'countries-water-stress - {crop}' not in bwr.extension_tables:\n",
    "        bwr.raster_as_extension_table('countries-water-stress', crop, engine='rasterstats')        "
   ]
  },
  {
   "cell_type": "code",
   "execution_count": null,
   "id": "891e9f92-7873-422f-8750-e684de158632",
   "metadata": {},
   "outputs": [],
   "source": [
    "bwr.extension_tables"
   ]
  },
  {
   "cell_type": "code",
   "execution_count": null,
   "id": "926ce6a0-9a4e-4d09-9dd7-cf2cc8c7276f",
   "metadata": {},
   "outputs": [],
   "source": [
    "bwr.geocollections"
   ]
  },
  {
   "cell_type": "code",
   "execution_count": null,
   "id": "6ad1c658-c186-4ee2-b9da-8af65ecedb80",
   "metadata": {},
   "outputs": [],
   "source": [
    "bwr.extension_tables"
   ]
  },
  {
   "cell_type": "code",
   "execution_count": null,
   "id": "ee4b95d8-2f92-465a-bdc4-f145ab80dba5",
   "metadata": {},
   "outputs": [],
   "source": [
    "bwr.intersections"
   ]
  },
  {
   "cell_type": "code",
   "execution_count": null,
   "id": "fc50d740-67a7-4fd6-8db9-6fc31ebf2711",
   "metadata": {},
   "outputs": [],
   "source": [
    "meal = bd.get_node(name=\"meal\")"
   ]
  },
  {
   "cell_type": "code",
   "execution_count": null,
   "id": "60cd298d-ba05-482f-8a2b-bd932f8d1384",
   "metadata": {},
   "outputs": [],
   "source": [
    "bwr.calculate_needed_intersections({meal: 1}, (\"water stress\",), 'regions-water-stress - potatoe')"
   ]
  },
  {
   "cell_type": "code",
   "execution_count": null,
   "id": "3caa102a-ccfb-45cf-9ab6-7e01926f68d8",
   "metadata": {},
   "outputs": [],
   "source": [
    "lca = bwr.ExtensionTablesLCA(\n",
    "    demand={meal: 1},\n",
    "    method=(\"water stress\",),\n",
    "    xtable='regions-water-stress - potatoe'\n",
    ")\n",
    "lca.lci()\n",
    "lca.lcia()"
   ]
  },
  {
   "cell_type": "code",
   "execution_count": null,
   "id": "1aa4b2a3-5e0f-4fe5-8b73-5430813333ed",
   "metadata": {},
   "outputs": [],
   "source": [
    "lca.score"
   ]
  },
  {
   "cell_type": "code",
   "execution_count": null,
   "id": "b8f660b5-d1c1-4e5b-8b2a-764a64cff5d5",
   "metadata": {
    "tags": []
   },
   "outputs": [],
   "source": [
    "lca.geodataframe_xtable_spatial_scale().explore(column='score_rel')"
   ]
  },
  {
   "cell_type": "code",
   "execution_count": null,
   "id": "b47d67bd-d016-4ac5-ade5-b540e5e66ff0",
   "metadata": {},
   "outputs": [],
   "source": []
  }
 ],
 "metadata": {
  "kernelspec": {
   "display_name": "Python [conda env:regional]",
   "language": "python",
   "name": "conda-env-regional-py"
  },
  "language_info": {
   "codemirror_mode": {
    "name": "ipython",
    "version": 3
   },
   "file_extension": ".py",
   "mimetype": "text/x-python",
   "name": "python",
   "nbconvert_exporter": "python",
   "pygments_lexer": "ipython3",
   "version": "3.10.10"
  }
 },
 "nbformat": 4,
 "nbformat_minor": 5
}
